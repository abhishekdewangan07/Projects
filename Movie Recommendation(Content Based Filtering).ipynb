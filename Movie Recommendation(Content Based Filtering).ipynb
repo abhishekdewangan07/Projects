{
 "cells": [
  {
   "cell_type": "code",
   "execution_count": 1,
   "metadata": {},
   "outputs": [],
   "source": [
    "#Import Libraries\n",
    "import numpy as np\n",
    "import pandas as pd\n",
    "import matplotlib.pyplot as plt\n",
    "import seaborn as sns\n",
    "%matplotlib inline\n",
    "from sklearn.feature_extraction.text import TfidfVectorizer\n",
    "from sklearn.metrics.pairwise import linear_kernel\n",
    "from sklearn.metrics.pairwise import cosine_similarity\n",
    "\n",
    "import nltk\n",
    "from nltk.corpus import stopwords"
   ]
  },
  {
   "cell_type": "code",
   "execution_count": 2,
   "metadata": {},
   "outputs": [
    {
     "data": {
      "text/html": [
       "<div>\n",
       "<style scoped>\n",
       "    .dataframe tbody tr th:only-of-type {\n",
       "        vertical-align: middle;\n",
       "    }\n",
       "\n",
       "    .dataframe tbody tr th {\n",
       "        vertical-align: top;\n",
       "    }\n",
       "\n",
       "    .dataframe thead th {\n",
       "        text-align: right;\n",
       "    }\n",
       "</style>\n",
       "<table border=\"1\" class=\"dataframe\">\n",
       "  <thead>\n",
       "    <tr style=\"text-align: right;\">\n",
       "      <th></th>\n",
       "      <th>movieId</th>\n",
       "      <th>title</th>\n",
       "      <th>genres</th>\n",
       "    </tr>\n",
       "  </thead>\n",
       "  <tbody>\n",
       "    <tr>\n",
       "      <td>0</td>\n",
       "      <td>1</td>\n",
       "      <td>Toy Story (1995)</td>\n",
       "      <td>Adventure|Animation|Children|Comedy|Fantasy</td>\n",
       "    </tr>\n",
       "    <tr>\n",
       "      <td>1</td>\n",
       "      <td>2</td>\n",
       "      <td>Jumanji (1995)</td>\n",
       "      <td>Adventure|Children|Fantasy</td>\n",
       "    </tr>\n",
       "    <tr>\n",
       "      <td>2</td>\n",
       "      <td>3</td>\n",
       "      <td>Grumpier Old Men (1995)</td>\n",
       "      <td>Comedy|Romance</td>\n",
       "    </tr>\n",
       "    <tr>\n",
       "      <td>3</td>\n",
       "      <td>4</td>\n",
       "      <td>Waiting to Exhale (1995)</td>\n",
       "      <td>Comedy|Drama|Romance</td>\n",
       "    </tr>\n",
       "    <tr>\n",
       "      <td>4</td>\n",
       "      <td>5</td>\n",
       "      <td>Father of the Bride Part II (1995)</td>\n",
       "      <td>Comedy</td>\n",
       "    </tr>\n",
       "  </tbody>\n",
       "</table>\n",
       "</div>"
      ],
      "text/plain": [
       "   movieId                               title  \\\n",
       "0        1                    Toy Story (1995)   \n",
       "1        2                      Jumanji (1995)   \n",
       "2        3             Grumpier Old Men (1995)   \n",
       "3        4            Waiting to Exhale (1995)   \n",
       "4        5  Father of the Bride Part II (1995)   \n",
       "\n",
       "                                        genres  \n",
       "0  Adventure|Animation|Children|Comedy|Fantasy  \n",
       "1                   Adventure|Children|Fantasy  \n",
       "2                               Comedy|Romance  \n",
       "3                         Comedy|Drama|Romance  \n",
       "4                                       Comedy  "
      ]
     },
     "execution_count": 2,
     "metadata": {},
     "output_type": "execute_result"
    }
   ],
   "source": [
    "#Load the dataset\n",
    "movie_details = pd.read_csv(\"movie.csv\")\n",
    "movie_details.head()"
   ]
  },
  {
   "cell_type": "code",
   "execution_count": 3,
   "metadata": {},
   "outputs": [
    {
     "data": {
      "text/plain": [
       "(27278, 3)"
      ]
     },
     "execution_count": 3,
     "metadata": {},
     "output_type": "execute_result"
    }
   ],
   "source": [
    "movie_details.shape"
   ]
  },
  {
   "cell_type": "code",
   "execution_count": 4,
   "metadata": {},
   "outputs": [],
   "source": [
    "movie_details['title'] = movie_details['title'].astype('str')\n",
    "movie_details['genres'] = movie_details['genres'].astype('str')"
   ]
  },
  {
   "cell_type": "code",
   "execution_count": 5,
   "metadata": {},
   "outputs": [],
   "source": [
    "def recommended_movie(name):\n",
    "    \n",
    "    #fillNA\n",
    "    movie_details['genres'].fillna('Null', inplace = True)\n",
    "    \n",
    "    #Create matrix using TF-IDF vectorizer\n",
    "    tf = TfidfVectorizer(strip_accents='ascii',lowercase=True,stop_words = stopwords.words('english'))\n",
    "    \n",
    "    tfidf_matrix = tf.fit_transform(movie_details['genres'])\n",
    "    \n",
    "    \n",
    "    # find the similarity using linear kernel\n",
    "    similarities = cosine_similarity(tfidf_matrix, tfidf_matrix)\n",
    "    \n",
    "    #Construct a reverse map of indices and movie titles\n",
    "    indices = pd.Series(movie_details.index, index=movie_details['title']).drop_duplicates()\n",
    "    \n",
    "    #find and sort the similarity scores\n",
    "    idx = indices[name]\n",
    "    \n",
    "    sim_scores = list(enumerate(similarities[idx]))\n",
    "    \n",
    "    sim_scores.sort(key=lambda x: x[1],reverse = True)\n",
    "    \n",
    "    #10 similar movies\n",
    "    sim_scores = sim_scores[0:11]\n",
    "    \n",
    "    #Recommendations\n",
    "    print('Movie Recommendations:')\n",
    "    print(\"\\t\")\n",
    "    for i,j in sim_scores:\n",
    "        if i != idx:\n",
    "            recommended_movies = movie_details['title'].iloc[i]\n",
    "            print(recommended_movies)"
   ]
  },
  {
   "cell_type": "code",
   "execution_count": 6,
   "metadata": {},
   "outputs": [
    {
     "name": "stdout",
     "output_type": "stream",
     "text": [
      "Movie Recommendations:\n",
      "\t\n",
      "Father of the Bride Part II (1995)\n",
      "Ace Ventura: When Nature Calls (1995)\n",
      "Bio-Dome (1996)\n",
      "Friday (1995)\n",
      "Black Sheep (1996)\n",
      "Mr. Wrong (1996)\n",
      "Happy Gilmore (1996)\n",
      "Happiness Is in the Field (Bonheur est dans le pré, Le) (1995)\n",
      "Steal Big, Steal Little (1995)\n",
      "Flirting With Disaster (1996)\n"
     ]
    }
   ],
   "source": [
    "recommended_movie('Four Rooms (1995)')"
   ]
  }
 ],
 "metadata": {
  "kernelspec": {
   "display_name": "Python 3",
   "language": "python",
   "name": "python3"
  },
  "language_info": {
   "codemirror_mode": {
    "name": "ipython",
    "version": 3
   },
   "file_extension": ".py",
   "mimetype": "text/x-python",
   "name": "python",
   "nbconvert_exporter": "python",
   "pygments_lexer": "ipython3",
   "version": "3.7.4"
  }
 },
 "nbformat": 4,
 "nbformat_minor": 2
}
